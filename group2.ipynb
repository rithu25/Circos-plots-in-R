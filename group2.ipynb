{
  "nbformat": 4,
  "nbformat_minor": 0,
  "metadata": {
    "colab": {
      "name": "group2.ipynb",
      "provenance": [],
      "collapsed_sections": [],
      "authorship_tag": "ABX9TyNprzX5hSNVye53cyeBp7sF",
      "include_colab_link": true
    },
    "kernelspec": {
      "name": "python3",
      "display_name": "Python 3"
    }
  },
  "cells": [
    {
      "cell_type": "markdown",
      "metadata": {
        "id": "view-in-github",
        "colab_type": "text"
      },
      "source": [
        "<a href=\"https://colab.research.google.com/github/rithu25/Circos-plots-in-R/blob/master/group2.ipynb\" target=\"_parent\"><img src=\"https://colab.research.google.com/assets/colab-badge.svg\" alt=\"Open In Colab\"/></a>"
      ]
    },
    {
      "cell_type": "code",
      "metadata": {
        "id": "YC75whwZSfRH",
        "colab_type": "code",
        "colab": {}
      },
      "source": [
        "import pandas as pd"
      ],
      "execution_count": 1,
      "outputs": []
    },
    {
      "cell_type": "code",
      "metadata": {
        "id": "4_x5zWhBVfbT",
        "colab_type": "code",
        "colab": {}
      },
      "source": [
        "newdf2 = pd.read_csv('Group2new.txt', sep=\"\\t\")"
      ],
      "execution_count": 5,
      "outputs": []
    },
    {
      "cell_type": "code",
      "metadata": {
        "id": "QV0a4n8QVnnE",
        "colab_type": "code",
        "colab": {
          "base_uri": "https://localhost:8080/",
          "height": 419
        },
        "outputId": "64fa9d3f-ac6b-4ce3-ecf9-40c553e29a3b"
      },
      "source": [
        "newdf2 "
      ],
      "execution_count": 6,
      "outputs": [
        {
          "output_type": "execute_result",
          "data": {
            "text/html": [
              "<div>\n",
              "<style scoped>\n",
              "    .dataframe tbody tr th:only-of-type {\n",
              "        vertical-align: middle;\n",
              "    }\n",
              "\n",
              "    .dataframe tbody tr th {\n",
              "        vertical-align: top;\n",
              "    }\n",
              "\n",
              "    .dataframe thead th {\n",
              "        text-align: right;\n",
              "    }\n",
              "</style>\n",
              "<table border=\"1\" class=\"dataframe\">\n",
              "  <thead>\n",
              "    <tr style=\"text-align: right;\">\n",
              "      <th></th>\n",
              "      <th>Chrom</th>\n",
              "      <th>Start</th>\n",
              "      <th>End</th>\n",
              "      <th>Genename</th>\n",
              "    </tr>\n",
              "  </thead>\n",
              "  <tbody>\n",
              "    <tr>\n",
              "      <th>0</th>\n",
              "      <td>chr1</td>\n",
              "      <td>21474557</td>\n",
              "      <td>21474897</td>\n",
              "      <td>HSPG2</td>\n",
              "    </tr>\n",
              "    <tr>\n",
              "      <th>1</th>\n",
              "      <td>chr1</td>\n",
              "      <td>21599617</td>\n",
              "      <td>21601677</td>\n",
              "      <td>HSPG2</td>\n",
              "    </tr>\n",
              "    <tr>\n",
              "      <th>2</th>\n",
              "      <td>chr1</td>\n",
              "      <td>21603917</td>\n",
              "      <td>21606057</td>\n",
              "      <td>HSPG2</td>\n",
              "    </tr>\n",
              "    <tr>\n",
              "      <th>3</th>\n",
              "      <td>chr1</td>\n",
              "      <td>21606197</td>\n",
              "      <td>21608207</td>\n",
              "      <td>HSPG2</td>\n",
              "    </tr>\n",
              "    <tr>\n",
              "      <th>4</th>\n",
              "      <td>chr1</td>\n",
              "      <td>21608937</td>\n",
              "      <td>21609567</td>\n",
              "      <td>HSPG2</td>\n",
              "    </tr>\n",
              "    <tr>\n",
              "      <th>...</th>\n",
              "      <td>...</td>\n",
              "      <td>...</td>\n",
              "      <td>...</td>\n",
              "      <td>...</td>\n",
              "    </tr>\n",
              "    <tr>\n",
              "      <th>552</th>\n",
              "      <td>chrX</td>\n",
              "      <td>154791065</td>\n",
              "      <td>154791765</td>\n",
              "      <td>FLNA</td>\n",
              "    </tr>\n",
              "    <tr>\n",
              "      <th>553</th>\n",
              "      <td>chrX</td>\n",
              "      <td>154811395</td>\n",
              "      <td>154813005</td>\n",
              "      <td>FLNA</td>\n",
              "    </tr>\n",
              "    <tr>\n",
              "      <th>554</th>\n",
              "      <td>chrX</td>\n",
              "      <td>154845205</td>\n",
              "      <td>154846835</td>\n",
              "      <td>FLNA</td>\n",
              "    </tr>\n",
              "    <tr>\n",
              "      <th>555</th>\n",
              "      <td>chrX</td>\n",
              "      <td>154853605</td>\n",
              "      <td>154855925</td>\n",
              "      <td>FLNA</td>\n",
              "    </tr>\n",
              "    <tr>\n",
              "      <th>556</th>\n",
              "      <td>chrX</td>\n",
              "      <td>154486331</td>\n",
              "      <td>154486531</td>\n",
              "      <td>FLNA</td>\n",
              "    </tr>\n",
              "  </tbody>\n",
              "</table>\n",
              "<p>557 rows × 4 columns</p>\n",
              "</div>"
            ],
            "text/plain": [
              "    Chrom      Start        End Genename\n",
              "0    chr1   21474557   21474897    HSPG2\n",
              "1    chr1   21599617   21601677    HSPG2\n",
              "2    chr1   21603917   21606057    HSPG2\n",
              "3    chr1   21606197   21608207    HSPG2\n",
              "4    chr1   21608937   21609567    HSPG2\n",
              "..    ...        ...        ...      ...\n",
              "552  chrX  154791065  154791765     FLNA\n",
              "553  chrX  154811395  154813005     FLNA\n",
              "554  chrX  154845205  154846835     FLNA\n",
              "555  chrX  154853605  154855925     FLNA\n",
              "556  chrX  154486331  154486531     FLNA\n",
              "\n",
              "[557 rows x 4 columns]"
            ]
          },
          "metadata": {
            "tags": []
          },
          "execution_count": 6
        }
      ]
    },
    {
      "cell_type": "code",
      "metadata": {
        "id": "_5DTu9m1Vf4t",
        "colab_type": "code",
        "colab": {
          "base_uri": "https://localhost:8080/",
          "height": 102
        },
        "outputId": "89775d5f-b49b-4ed8-ea62-89bb9083f4af"
      },
      "source": [
        "newdf2['Genename'].unique()"
      ],
      "execution_count": 7,
      "outputs": [
        {
          "output_type": "execute_result",
          "data": {
            "text/plain": [
              "array(['HSPG2', 'CSRP1', 'ATP2B4', 'ENAH', 'ACTA2', 'TAGLN', 'ITGA5',\n",
              "       'MYL6', 'ACTN1', 'TPM1', 'MYH11', 'PTRF', 'CNN1', 'ACTG2', 'FN1',\n",
              "       'TNS1', 'DES', 'MYL9', 'MYLK', 'SYNPO2', 'PALLD', 'TGFBI', 'DST',\n",
              "       'COL12A1', 'CTGF', 'ACTB', 'IGFBP3', 'HSPB1', 'SERPINE1', 'FLNC',\n",
              "       'CALD1', 'TPM2', 'TLN1', 'TNC', 'FLNA'], dtype=object)"
            ]
          },
          "metadata": {
            "tags": []
          },
          "execution_count": 7
        }
      ]
    },
    {
      "cell_type": "code",
      "metadata": {
        "id": "AckG8AUfVi0E",
        "colab_type": "code",
        "colab": {}
      },
      "source": [
        "newg2 = pd.read_csv(\"group2newciiider.csv\")\n",
        "newe2 = pd.read_excel(\"enrich2.xlsx\")"
      ],
      "execution_count": 8,
      "outputs": []
    },
    {
      "cell_type": "code",
      "metadata": {
        "id": "Od-IT63kWBHn",
        "colab_type": "code",
        "colab": {
          "base_uri": "https://localhost:8080/",
          "height": 473
        },
        "outputId": "267a9535-50af-47fa-8f7a-3a0e82565b20"
      },
      "source": [
        "newg2.rename(columns={'Gene Name':'Genename'}, inplace=True)\n",
        "\n",
        "newg2[['Chrom','Start','End','Genename']] = newg2.Genename.str.split(\"_\",expand=True,)\n",
        "\n",
        "newg2"
      ],
      "execution_count": 9,
      "outputs": [
        {
          "output_type": "execute_result",
          "data": {
            "text/html": [
              "<div>\n",
              "<style scoped>\n",
              "    .dataframe tbody tr th:only-of-type {\n",
              "        vertical-align: middle;\n",
              "    }\n",
              "\n",
              "    .dataframe tbody tr th {\n",
              "        vertical-align: top;\n",
              "    }\n",
              "\n",
              "    .dataframe thead th {\n",
              "        text-align: right;\n",
              "    }\n",
              "</style>\n",
              "<table border=\"1\" class=\"dataframe\">\n",
              "  <thead>\n",
              "    <tr style=\"text-align: right;\">\n",
              "      <th></th>\n",
              "      <th>Genename</th>\n",
              "      <th>Gene ID</th>\n",
              "      <th>Transcription Factor Name</th>\n",
              "      <th>Transcription Factor ID</th>\n",
              "      <th>Start Position</th>\n",
              "      <th>End Position</th>\n",
              "      <th>Strand</th>\n",
              "      <th>Core Match Score</th>\n",
              "      <th>Matrix Match Score</th>\n",
              "      <th>Sequence</th>\n",
              "      <th>Chrom</th>\n",
              "      <th>Start</th>\n",
              "      <th>End</th>\n",
              "    </tr>\n",
              "  </thead>\n",
              "  <tbody>\n",
              "    <tr>\n",
              "      <th>0</th>\n",
              "      <td>TNS1</td>\n",
              "      <td>558.0</td>\n",
              "      <td>RBPJ</td>\n",
              "      <td>MA1116.1</td>\n",
              "      <td>1007.0</td>\n",
              "      <td>1016.0</td>\n",
              "      <td>1.0</td>\n",
              "      <td>1.000</td>\n",
              "      <td>0.997</td>\n",
              "      <td>TATGGGAACG</td>\n",
              "      <td>chr2</td>\n",
              "      <td>218580737</td>\n",
              "      <td>218582967</td>\n",
              "    </tr>\n",
              "    <tr>\n",
              "      <th>1</th>\n",
              "      <td>TNS1</td>\n",
              "      <td>558.0</td>\n",
              "      <td>RBPJ</td>\n",
              "      <td>MA1116.1</td>\n",
              "      <td>1234.0</td>\n",
              "      <td>1243.0</td>\n",
              "      <td>1.0</td>\n",
              "      <td>1.000</td>\n",
              "      <td>0.997</td>\n",
              "      <td>CTTGGGAAGC</td>\n",
              "      <td>chr2</td>\n",
              "      <td>218580737</td>\n",
              "      <td>218582967</td>\n",
              "    </tr>\n",
              "    <tr>\n",
              "      <th>2</th>\n",
              "      <td>TNS1</td>\n",
              "      <td>558.0</td>\n",
              "      <td>RBPJ</td>\n",
              "      <td>MA1116.1</td>\n",
              "      <td>2175.0</td>\n",
              "      <td>2184.0</td>\n",
              "      <td>1.0</td>\n",
              "      <td>1.000</td>\n",
              "      <td>0.998</td>\n",
              "      <td>CATGGGAATT</td>\n",
              "      <td>chr2</td>\n",
              "      <td>218580737</td>\n",
              "      <td>218582967</td>\n",
              "    </tr>\n",
              "    <tr>\n",
              "      <th>3</th>\n",
              "      <td>TNS1</td>\n",
              "      <td>558.0</td>\n",
              "      <td>ASCL1(var.2)</td>\n",
              "      <td>MA1631.1</td>\n",
              "      <td>1061.0</td>\n",
              "      <td>1073.0</td>\n",
              "      <td>-1.0</td>\n",
              "      <td>1.000</td>\n",
              "      <td>0.917</td>\n",
              "      <td>CTGCACCTGGCTA</td>\n",
              "      <td>chr2</td>\n",
              "      <td>218580737</td>\n",
              "      <td>218582967</td>\n",
              "    </tr>\n",
              "    <tr>\n",
              "      <th>4</th>\n",
              "      <td>TNS1</td>\n",
              "      <td>558.0</td>\n",
              "      <td>TBX2</td>\n",
              "      <td>MA0688.1</td>\n",
              "      <td>1864.0</td>\n",
              "      <td>1874.0</td>\n",
              "      <td>1.0</td>\n",
              "      <td>1.000</td>\n",
              "      <td>0.935</td>\n",
              "      <td>ATGGTGTGAAC</td>\n",
              "      <td>chr2</td>\n",
              "      <td>218580737</td>\n",
              "      <td>218582967</td>\n",
              "    </tr>\n",
              "    <tr>\n",
              "      <th>...</th>\n",
              "      <td>...</td>\n",
              "      <td>...</td>\n",
              "      <td>...</td>\n",
              "      <td>...</td>\n",
              "      <td>...</td>\n",
              "      <td>...</td>\n",
              "      <td>...</td>\n",
              "      <td>...</td>\n",
              "      <td>...</td>\n",
              "      <td>...</td>\n",
              "      <td>...</td>\n",
              "      <td>...</td>\n",
              "      <td>...</td>\n",
              "    </tr>\n",
              "    <tr>\n",
              "      <th>271703</th>\n",
              "      <td>ATP2B4</td>\n",
              "      <td>997.0</td>\n",
              "      <td>FOXC1</td>\n",
              "      <td>MA0032.2</td>\n",
              "      <td>2025.0</td>\n",
              "      <td>2035.0</td>\n",
              "      <td>-1.0</td>\n",
              "      <td>0.932</td>\n",
              "      <td>0.913</td>\n",
              "      <td>AAAGTAAAAAA</td>\n",
              "      <td>chr1</td>\n",
              "      <td>203925112</td>\n",
              "      <td>203927572</td>\n",
              "    </tr>\n",
              "    <tr>\n",
              "      <th>271704</th>\n",
              "      <td>ATP2B4</td>\n",
              "      <td>997.0</td>\n",
              "      <td>PHOX2B</td>\n",
              "      <td>MA0681.2</td>\n",
              "      <td>2032.0</td>\n",
              "      <td>2047.0</td>\n",
              "      <td>1.0</td>\n",
              "      <td>1.000</td>\n",
              "      <td>0.902</td>\n",
              "      <td>CTTTATAAAATTATTA</td>\n",
              "      <td>chr1</td>\n",
              "      <td>203925112</td>\n",
              "      <td>203927572</td>\n",
              "    </tr>\n",
              "    <tr>\n",
              "      <th>271705</th>\n",
              "      <td>ATP2B4</td>\n",
              "      <td>997.0</td>\n",
              "      <td>TBX4</td>\n",
              "      <td>MA0806.1</td>\n",
              "      <td>2393.0</td>\n",
              "      <td>2400.0</td>\n",
              "      <td>-1.0</td>\n",
              "      <td>0.927</td>\n",
              "      <td>0.929</td>\n",
              "      <td>AAGTGTTA</td>\n",
              "      <td>chr1</td>\n",
              "      <td>203925112</td>\n",
              "      <td>203927572</td>\n",
              "    </tr>\n",
              "    <tr>\n",
              "      <th>271706</th>\n",
              "      <td>ATP2B4</td>\n",
              "      <td>997.0</td>\n",
              "      <td>TBX4</td>\n",
              "      <td>MA0806.1</td>\n",
              "      <td>2148.0</td>\n",
              "      <td>2155.0</td>\n",
              "      <td>-1.0</td>\n",
              "      <td>1.000</td>\n",
              "      <td>0.907</td>\n",
              "      <td>AGGTGGGA</td>\n",
              "      <td>chr1</td>\n",
              "      <td>203925112</td>\n",
              "      <td>203927572</td>\n",
              "    </tr>\n",
              "    <tr>\n",
              "      <th>271707</th>\n",
              "      <td>None</td>\n",
              "      <td>NaN</td>\n",
              "      <td>NaN</td>\n",
              "      <td>NaN</td>\n",
              "      <td>NaN</td>\n",
              "      <td>NaN</td>\n",
              "      <td>NaN</td>\n",
              "      <td>NaN</td>\n",
              "      <td>NaN</td>\n",
              "      <td>NaN</td>\n",
              "      <td>chr1</td>\n",
              "      <td>203925112</td>\n",
              "      <td>20392</td>\n",
              "    </tr>\n",
              "  </tbody>\n",
              "</table>\n",
              "<p>271708 rows × 13 columns</p>\n",
              "</div>"
            ],
            "text/plain": [
              "       Genename  Gene ID Transcription Factor Name  ... Chrom      Start        End\n",
              "0          TNS1    558.0                      RBPJ  ...  chr2  218580737  218582967\n",
              "1          TNS1    558.0                      RBPJ  ...  chr2  218580737  218582967\n",
              "2          TNS1    558.0                      RBPJ  ...  chr2  218580737  218582967\n",
              "3          TNS1    558.0              ASCL1(var.2)  ...  chr2  218580737  218582967\n",
              "4          TNS1    558.0                      TBX2  ...  chr2  218580737  218582967\n",
              "...         ...      ...                       ...  ...   ...        ...        ...\n",
              "271703   ATP2B4    997.0                     FOXC1  ...  chr1  203925112  203927572\n",
              "271704   ATP2B4    997.0                    PHOX2B  ...  chr1  203925112  203927572\n",
              "271705   ATP2B4    997.0                      TBX4  ...  chr1  203925112  203927572\n",
              "271706   ATP2B4    997.0                      TBX4  ...  chr1  203925112  203927572\n",
              "271707     None      NaN                       NaN  ...  chr1  203925112      20392\n",
              "\n",
              "[271708 rows x 13 columns]"
            ]
          },
          "metadata": {
            "tags": []
          },
          "execution_count": 9
        }
      ]
    },
    {
      "cell_type": "code",
      "metadata": {
        "id": "4xwy-9kHWEUY",
        "colab_type": "code",
        "colab": {}
      },
      "source": [
        "newmerged_df = newg2.merge(newe2, how = 'inner', on = [\"Transcription Factor ID\",\"Transcription Factor Name\"])"
      ],
      "execution_count": 10,
      "outputs": []
    },
    {
      "cell_type": "code",
      "metadata": {
        "id": "KNnHrzKkWHGZ",
        "colab_type": "code",
        "colab": {}
      },
      "source": [
        "newg2 = newmerged_df[[\"Chrom\",\"Start Position\",'End Position','Genename','Transcription Factor Name','Transcription Factor ID']].copy()"
      ],
      "execution_count": 11,
      "outputs": []
    },
    {
      "cell_type": "code",
      "metadata": {
        "id": "4UgDM5AUWJ7c",
        "colab_type": "code",
        "colab": {}
      },
      "source": [
        "newmeh2 = newdf2.merge(newg2,how='left', left_on='Genename', right_on='Genename')"
      ],
      "execution_count": 12,
      "outputs": []
    },
    {
      "cell_type": "code",
      "metadata": {
        "id": "ug_H7k13WMYC",
        "colab_type": "code",
        "colab": {}
      },
      "source": [
        "newmeh2['Start'] = newmeh2['Start'] + newmeh2['Start Position'] "
      ],
      "execution_count": 13,
      "outputs": []
    },
    {
      "cell_type": "code",
      "metadata": {
        "id": "FwVYlK1KWQMS",
        "colab_type": "code",
        "colab": {}
      },
      "source": [
        "newmeh2['End'] = newmeh2['End'] + newmeh2['End Position'] "
      ],
      "execution_count": 14,
      "outputs": []
    },
    {
      "cell_type": "code",
      "metadata": {
        "id": "4SdA4WrvWSXw",
        "colab_type": "code",
        "colab": {}
      },
      "source": [
        "newmeh2 = newmeh2[[\"Chrom_x\",\"Start\",'End','Genename','Transcription Factor Name']].copy()"
      ],
      "execution_count": 15,
      "outputs": []
    },
    {
      "cell_type": "code",
      "metadata": {
        "id": "Ef9PRzaKWUff",
        "colab_type": "code",
        "colab": {}
      },
      "source": [
        "newmeh2.rename(columns={'Chrom_x':'Chrom'}, inplace=True)"
      ],
      "execution_count": 16,
      "outputs": []
    },
    {
      "cell_type": "code",
      "metadata": {
        "id": "oOseie0CWWz3",
        "colab_type": "code",
        "colab": {}
      },
      "source": [
        "newmeh2 = newmeh2.drop_duplicates()"
      ],
      "execution_count": 17,
      "outputs": []
    },
    {
      "cell_type": "code",
      "metadata": {
        "id": "C415js8yWZQS",
        "colab_type": "code",
        "colab": {
          "base_uri": "https://localhost:8080/",
          "height": 419
        },
        "outputId": "0d9127e3-a393-4625-9392-eadbc028ef27"
      },
      "source": [
        "newmeh2 "
      ],
      "execution_count": 18,
      "outputs": [
        {
          "output_type": "execute_result",
          "data": {
            "text/html": [
              "<div>\n",
              "<style scoped>\n",
              "    .dataframe tbody tr th:only-of-type {\n",
              "        vertical-align: middle;\n",
              "    }\n",
              "\n",
              "    .dataframe tbody tr th {\n",
              "        vertical-align: top;\n",
              "    }\n",
              "\n",
              "    .dataframe thead th {\n",
              "        text-align: right;\n",
              "    }\n",
              "</style>\n",
              "<table border=\"1\" class=\"dataframe\">\n",
              "  <thead>\n",
              "    <tr style=\"text-align: right;\">\n",
              "      <th></th>\n",
              "      <th>Chrom</th>\n",
              "      <th>Start</th>\n",
              "      <th>End</th>\n",
              "      <th>Genename</th>\n",
              "      <th>Transcription Factor Name</th>\n",
              "    </tr>\n",
              "  </thead>\n",
              "  <tbody>\n",
              "    <tr>\n",
              "      <th>0</th>\n",
              "      <td>chr1</td>\n",
              "      <td>21474580.0</td>\n",
              "      <td>21474929.0</td>\n",
              "      <td>HSPG2</td>\n",
              "      <td>RBPJ</td>\n",
              "    </tr>\n",
              "    <tr>\n",
              "      <th>1</th>\n",
              "      <td>chr1</td>\n",
              "      <td>21474657.0</td>\n",
              "      <td>21475006.0</td>\n",
              "      <td>HSPG2</td>\n",
              "      <td>RBPJ</td>\n",
              "    </tr>\n",
              "    <tr>\n",
              "      <th>2</th>\n",
              "      <td>chr1</td>\n",
              "      <td>21474807.0</td>\n",
              "      <td>21475156.0</td>\n",
              "      <td>HSPG2</td>\n",
              "      <td>RBPJ</td>\n",
              "    </tr>\n",
              "    <tr>\n",
              "      <th>3</th>\n",
              "      <td>chr1</td>\n",
              "      <td>21476220.0</td>\n",
              "      <td>21476569.0</td>\n",
              "      <td>HSPG2</td>\n",
              "      <td>RBPJ</td>\n",
              "    </tr>\n",
              "    <tr>\n",
              "      <th>4</th>\n",
              "      <td>chr1</td>\n",
              "      <td>21475338.0</td>\n",
              "      <td>21475687.0</td>\n",
              "      <td>HSPG2</td>\n",
              "      <td>RBPJ</td>\n",
              "    </tr>\n",
              "    <tr>\n",
              "      <th>...</th>\n",
              "      <td>...</td>\n",
              "      <td>...</td>\n",
              "      <td>...</td>\n",
              "      <td>...</td>\n",
              "      <td>...</td>\n",
              "    </tr>\n",
              "    <tr>\n",
              "      <th>7380631</th>\n",
              "      <td>chrX</td>\n",
              "      <td>154486354.0</td>\n",
              "      <td>154486564.0</td>\n",
              "      <td>FLNA</td>\n",
              "      <td>NRF1</td>\n",
              "    </tr>\n",
              "    <tr>\n",
              "      <th>7380632</th>\n",
              "      <td>chrX</td>\n",
              "      <td>154488271.0</td>\n",
              "      <td>154488482.0</td>\n",
              "      <td>FLNA</td>\n",
              "      <td>CREB3L4(var.2)</td>\n",
              "    </tr>\n",
              "    <tr>\n",
              "      <th>7380634</th>\n",
              "      <td>chrX</td>\n",
              "      <td>154488269.0</td>\n",
              "      <td>154488484.0</td>\n",
              "      <td>FLNA</td>\n",
              "      <td>CREM</td>\n",
              "    </tr>\n",
              "    <tr>\n",
              "      <th>7380636</th>\n",
              "      <td>chrX</td>\n",
              "      <td>154486494.0</td>\n",
              "      <td>154486708.0</td>\n",
              "      <td>FLNA</td>\n",
              "      <td>ZBTB33</td>\n",
              "    </tr>\n",
              "    <tr>\n",
              "      <th>7380637</th>\n",
              "      <td>chrX</td>\n",
              "      <td>154486359.0</td>\n",
              "      <td>154486573.0</td>\n",
              "      <td>FLNA</td>\n",
              "      <td>CENPB</td>\n",
              "    </tr>\n",
              "  </tbody>\n",
              "</table>\n",
              "<p>6588400 rows × 5 columns</p>\n",
              "</div>"
            ],
            "text/plain": [
              "        Chrom        Start          End Genename Transcription Factor Name\n",
              "0        chr1   21474580.0   21474929.0    HSPG2                      RBPJ\n",
              "1        chr1   21474657.0   21475006.0    HSPG2                      RBPJ\n",
              "2        chr1   21474807.0   21475156.0    HSPG2                      RBPJ\n",
              "3        chr1   21476220.0   21476569.0    HSPG2                      RBPJ\n",
              "4        chr1   21475338.0   21475687.0    HSPG2                      RBPJ\n",
              "...       ...          ...          ...      ...                       ...\n",
              "7380631  chrX  154486354.0  154486564.0     FLNA                      NRF1\n",
              "7380632  chrX  154488271.0  154488482.0     FLNA            CREB3L4(var.2)\n",
              "7380634  chrX  154488269.0  154488484.0     FLNA                      CREM\n",
              "7380636  chrX  154486494.0  154486708.0     FLNA                    ZBTB33\n",
              "7380637  chrX  154486359.0  154486573.0     FLNA                     CENPB\n",
              "\n",
              "[6588400 rows x 5 columns]"
            ]
          },
          "metadata": {
            "tags": []
          },
          "execution_count": 18
        }
      ]
    },
    {
      "cell_type": "code",
      "metadata": {
        "id": "DRf_HnxQWbT3",
        "colab_type": "code",
        "colab": {}
      },
      "source": [
        "newmeh2 = newmeh2.drop_duplicates(subset=['Genename','Transcription Factor Name'], keep=\"last\")"
      ],
      "execution_count": 19,
      "outputs": []
    },
    {
      "cell_type": "code",
      "metadata": {
        "id": "VrAhohZJWeWm",
        "colab_type": "code",
        "colab": {
          "base_uri": "https://localhost:8080/",
          "height": 419
        },
        "outputId": "ccdc46ce-2744-4ad9-d5d4-07242ebff4c6"
      },
      "source": [
        "newmeh2"
      ],
      "execution_count": 20,
      "outputs": [
        {
          "output_type": "execute_result",
          "data": {
            "text/html": [
              "<div>\n",
              "<style scoped>\n",
              "    .dataframe tbody tr th:only-of-type {\n",
              "        vertical-align: middle;\n",
              "    }\n",
              "\n",
              "    .dataframe tbody tr th {\n",
              "        vertical-align: top;\n",
              "    }\n",
              "\n",
              "    .dataframe thead th {\n",
              "        text-align: right;\n",
              "    }\n",
              "</style>\n",
              "<table border=\"1\" class=\"dataframe\">\n",
              "  <thead>\n",
              "    <tr style=\"text-align: right;\">\n",
              "      <th></th>\n",
              "      <th>Chrom</th>\n",
              "      <th>Start</th>\n",
              "      <th>End</th>\n",
              "      <th>Genename</th>\n",
              "      <th>Transcription Factor Name</th>\n",
              "    </tr>\n",
              "  </thead>\n",
              "  <tbody>\n",
              "    <tr>\n",
              "      <th>55477</th>\n",
              "      <td>chr1</td>\n",
              "      <td>21863588.0</td>\n",
              "      <td>21865577.0</td>\n",
              "      <td>HSPG2</td>\n",
              "      <td>RBPJ</td>\n",
              "    </tr>\n",
              "    <tr>\n",
              "      <th>55487</th>\n",
              "      <td>chr1</td>\n",
              "      <td>21862879.0</td>\n",
              "      <td>21864871.0</td>\n",
              "      <td>HSPG2</td>\n",
              "      <td>ASCL1(var.2)</td>\n",
              "    </tr>\n",
              "    <tr>\n",
              "      <th>55496</th>\n",
              "      <td>chr1</td>\n",
              "      <td>21862515.0</td>\n",
              "      <td>21864505.0</td>\n",
              "      <td>HSPG2</td>\n",
              "      <td>TBX2</td>\n",
              "    </tr>\n",
              "    <tr>\n",
              "      <th>55513</th>\n",
              "      <td>chr1</td>\n",
              "      <td>21862232.0</td>\n",
              "      <td>21864218.0</td>\n",
              "      <td>HSPG2</td>\n",
              "      <td>NFATC2</td>\n",
              "    </tr>\n",
              "    <tr>\n",
              "      <th>55520</th>\n",
              "      <td>chr1</td>\n",
              "      <td>21863885.0</td>\n",
              "      <td>21865872.0</td>\n",
              "      <td>HSPG2</td>\n",
              "      <td>MEIS2</td>\n",
              "    </tr>\n",
              "    <tr>\n",
              "      <th>...</th>\n",
              "      <td>...</td>\n",
              "      <td>...</td>\n",
              "      <td>...</td>\n",
              "      <td>...</td>\n",
              "      <td>...</td>\n",
              "    </tr>\n",
              "    <tr>\n",
              "      <th>7380631</th>\n",
              "      <td>chrX</td>\n",
              "      <td>154486354.0</td>\n",
              "      <td>154486564.0</td>\n",
              "      <td>FLNA</td>\n",
              "      <td>NRF1</td>\n",
              "    </tr>\n",
              "    <tr>\n",
              "      <th>7380632</th>\n",
              "      <td>chrX</td>\n",
              "      <td>154488271.0</td>\n",
              "      <td>154488482.0</td>\n",
              "      <td>FLNA</td>\n",
              "      <td>CREB3L4(var.2)</td>\n",
              "    </tr>\n",
              "    <tr>\n",
              "      <th>7380634</th>\n",
              "      <td>chrX</td>\n",
              "      <td>154488269.0</td>\n",
              "      <td>154488484.0</td>\n",
              "      <td>FLNA</td>\n",
              "      <td>CREM</td>\n",
              "    </tr>\n",
              "    <tr>\n",
              "      <th>7380636</th>\n",
              "      <td>chrX</td>\n",
              "      <td>154486494.0</td>\n",
              "      <td>154486708.0</td>\n",
              "      <td>FLNA</td>\n",
              "      <td>ZBTB33</td>\n",
              "    </tr>\n",
              "    <tr>\n",
              "      <th>7380637</th>\n",
              "      <td>chrX</td>\n",
              "      <td>154486359.0</td>\n",
              "      <td>154486573.0</td>\n",
              "      <td>FLNA</td>\n",
              "      <td>CENPB</td>\n",
              "    </tr>\n",
              "  </tbody>\n",
              "</table>\n",
              "<p>16022 rows × 5 columns</p>\n",
              "</div>"
            ],
            "text/plain": [
              "        Chrom        Start          End Genename Transcription Factor Name\n",
              "55477    chr1   21863588.0   21865577.0    HSPG2                      RBPJ\n",
              "55487    chr1   21862879.0   21864871.0    HSPG2              ASCL1(var.2)\n",
              "55496    chr1   21862515.0   21864505.0    HSPG2                      TBX2\n",
              "55513    chr1   21862232.0   21864218.0    HSPG2                    NFATC2\n",
              "55520    chr1   21863885.0   21865872.0    HSPG2                     MEIS2\n",
              "...       ...          ...          ...      ...                       ...\n",
              "7380631  chrX  154486354.0  154486564.0     FLNA                      NRF1\n",
              "7380632  chrX  154488271.0  154488482.0     FLNA            CREB3L4(var.2)\n",
              "7380634  chrX  154488269.0  154488484.0     FLNA                      CREM\n",
              "7380636  chrX  154486494.0  154486708.0     FLNA                    ZBTB33\n",
              "7380637  chrX  154486359.0  154486573.0     FLNA                     CENPB\n",
              "\n",
              "[16022 rows x 5 columns]"
            ]
          },
          "metadata": {
            "tags": []
          },
          "execution_count": 20
        }
      ]
    },
    {
      "cell_type": "code",
      "metadata": {
        "id": "fZguG7ARWgb3",
        "colab_type": "code",
        "colab": {}
      },
      "source": [
        "newmeh2.to_csv('group2ciiider.csv', index = False)"
      ],
      "execution_count": 21,
      "outputs": []
    },
    {
      "cell_type": "code",
      "metadata": {
        "id": "Yk2wZ7E9WjN-",
        "colab_type": "code",
        "colab": {}
      },
      "source": [
        ""
      ],
      "execution_count": null,
      "outputs": []
    }
  ]
}
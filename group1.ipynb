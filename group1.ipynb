{
  "nbformat": 4,
  "nbformat_minor": 0,
  "metadata": {
    "colab": {
      "name": "group1.ipynb",
      "provenance": [],
      "collapsed_sections": [],
      "authorship_tag": "ABX9TyOsL7e9jNeilzfEoHlZMW+F",
      "include_colab_link": true
    },
    "kernelspec": {
      "name": "python3",
      "display_name": "Python 3"
    }
  },
  "cells": [
    {
      "cell_type": "markdown",
      "metadata": {
        "id": "view-in-github",
        "colab_type": "text"
      },
      "source": [
        "<a href=\"https://colab.research.google.com/github/rithu25/Circos-plots-in-R/blob/master/group1.ipynb\" target=\"_parent\"><img src=\"https://colab.research.google.com/assets/colab-badge.svg\" alt=\"Open In Colab\"/></a>"
      ]
    },
    {
      "cell_type": "code",
      "metadata": {
        "id": "TkOr9cBrWx7m",
        "colab_type": "code",
        "colab": {}
      },
      "source": [
        "import pandas as pd"
      ],
      "execution_count": 1,
      "outputs": []
    },
    {
      "cell_type": "code",
      "metadata": {
        "id": "xOK0adWcWz6O",
        "colab_type": "code",
        "colab": {}
      },
      "source": [
        "df1 = pd.read_csv('Group1new.txt', sep=\"\\t\")"
      ],
      "execution_count": 2,
      "outputs": []
    },
    {
      "cell_type": "code",
      "metadata": {
        "id": "Ead79SArXss-",
        "colab_type": "code",
        "colab": {
          "base_uri": "https://localhost:8080/",
          "height": 419
        },
        "outputId": "fe622d4c-601b-4c7f-e9ec-1cd82b5cc42f"
      },
      "source": [
        "df1"
      ],
      "execution_count": 3,
      "outputs": [
        {
          "output_type": "execute_result",
          "data": {
            "text/html": [
              "<div>\n",
              "<style scoped>\n",
              "    .dataframe tbody tr th:only-of-type {\n",
              "        vertical-align: middle;\n",
              "    }\n",
              "\n",
              "    .dataframe tbody tr th {\n",
              "        vertical-align: top;\n",
              "    }\n",
              "\n",
              "    .dataframe thead th {\n",
              "        text-align: right;\n",
              "    }\n",
              "</style>\n",
              "<table border=\"1\" class=\"dataframe\">\n",
              "  <thead>\n",
              "    <tr style=\"text-align: right;\">\n",
              "      <th></th>\n",
              "      <th>Chrom</th>\n",
              "      <th>Start</th>\n",
              "      <th>End</th>\n",
              "      <th>Genename</th>\n",
              "    </tr>\n",
              "  </thead>\n",
              "  <tbody>\n",
              "    <tr>\n",
              "      <th>0</th>\n",
              "      <td>chr1</td>\n",
              "      <td>9004881</td>\n",
              "      <td>9007301</td>\n",
              "      <td>ENO1-IT1</td>\n",
              "    </tr>\n",
              "    <tr>\n",
              "      <th>1</th>\n",
              "      <td>chr1</td>\n",
              "      <td>9018381</td>\n",
              "      <td>9019201</td>\n",
              "      <td>ENO1-IT1</td>\n",
              "    </tr>\n",
              "    <tr>\n",
              "      <th>2</th>\n",
              "      <td>chr1</td>\n",
              "      <td>9040451</td>\n",
              "      <td>9041041</td>\n",
              "      <td>ENO1-IT1</td>\n",
              "    </tr>\n",
              "    <tr>\n",
              "      <th>3</th>\n",
              "      <td>chr1</td>\n",
              "      <td>9004881</td>\n",
              "      <td>9007301</td>\n",
              "      <td>ENO1-AS1</td>\n",
              "    </tr>\n",
              "    <tr>\n",
              "      <th>4</th>\n",
              "      <td>chr1</td>\n",
              "      <td>9018381</td>\n",
              "      <td>9019201</td>\n",
              "      <td>ENO1-AS1</td>\n",
              "    </tr>\n",
              "    <tr>\n",
              "      <th>...</th>\n",
              "      <td>...</td>\n",
              "      <td>...</td>\n",
              "      <td>...</td>\n",
              "      <td>...</td>\n",
              "    </tr>\n",
              "    <tr>\n",
              "      <th>916</th>\n",
              "      <td>chrX</td>\n",
              "      <td>47574781</td>\n",
              "      <td>47575121</td>\n",
              "      <td>TIMP1</td>\n",
              "    </tr>\n",
              "    <tr>\n",
              "      <th>917</th>\n",
              "      <td>chrX</td>\n",
              "      <td>47650031</td>\n",
              "      <td>47650421</td>\n",
              "      <td>TIMP1</td>\n",
              "    </tr>\n",
              "    <tr>\n",
              "      <th>918</th>\n",
              "      <td>chrX</td>\n",
              "      <td>47802421</td>\n",
              "      <td>47804001</td>\n",
              "      <td>TIMP1</td>\n",
              "    </tr>\n",
              "    <tr>\n",
              "      <th>919</th>\n",
              "      <td>chrX</td>\n",
              "      <td>72272770</td>\n",
              "      <td>72273230</td>\n",
              "      <td>RPS4X</td>\n",
              "    </tr>\n",
              "    <tr>\n",
              "      <th>920</th>\n",
              "      <td>chrX</td>\n",
              "      <td>72276230</td>\n",
              "      <td>72277190</td>\n",
              "      <td>RPS4X</td>\n",
              "    </tr>\n",
              "  </tbody>\n",
              "</table>\n",
              "<p>921 rows × 4 columns</p>\n",
              "</div>"
            ],
            "text/plain": [
              "    Chrom     Start       End  Genename\n",
              "0    chr1   9004881   9007301  ENO1-IT1\n",
              "1    chr1   9018381   9019201  ENO1-IT1\n",
              "2    chr1   9040451   9041041  ENO1-IT1\n",
              "3    chr1   9004881   9007301  ENO1-AS1\n",
              "4    chr1   9018381   9019201  ENO1-AS1\n",
              "..    ...       ...       ...       ...\n",
              "916  chrX  47574781  47575121     TIMP1\n",
              "917  chrX  47650031  47650421     TIMP1\n",
              "918  chrX  47802421  47804001     TIMP1\n",
              "919  chrX  72272770  72273230     RPS4X\n",
              "920  chrX  72276230  72277190     RPS4X\n",
              "\n",
              "[921 rows x 4 columns]"
            ]
          },
          "metadata": {
            "tags": []
          },
          "execution_count": 3
        }
      ]
    },
    {
      "cell_type": "code",
      "metadata": {
        "id": "YGI8Bd7PXuVT",
        "colab_type": "code",
        "colab": {
          "base_uri": "https://localhost:8080/",
          "height": 221
        },
        "outputId": "e418ab60-0d48-434b-9eb4-cb822e58854e"
      },
      "source": [
        "df1['Genename'].unique()"
      ],
      "execution_count": 4,
      "outputs": [
        {
          "output_type": "execute_result",
          "data": {
            "text/plain": [
              "array(['ENO1-IT1', 'ENO1-AS1', 'MACF1', 'RPS8', 'CSDE1', 'LAMC1', 'VIM',\n",
              "       'ITGB1', 'IFITM3', 'RPS3', 'SERPINH1', 'HSPA8', 'VWF', 'GAPDH',\n",
              "       'C1R', 'LRP1', 'DCN', 'HSP90B1', 'RPLP0', 'UBC', 'TPT1-AS1',\n",
              "       'TPT1', 'COL4A2-AS2', 'COL4A2-AS1', 'HSP90AA1', 'THBS1', 'B2M',\n",
              "       'FBN1', 'RPL4', 'ALDOA', 'CRISPLD2', 'IGFBP4', 'COL1A1', 'CLTC',\n",
              "       'ACTG1', 'EEF2', 'CALR', 'TPM4', 'FTL', 'SPTBN1', 'COL3A1',\n",
              "       'COL5A2', 'IGFBP5', 'SERPINE2', 'NCL', 'PTMA', 'COL6A3', 'HDLBP',\n",
              "       'TGM2', 'COL18A1', 'COL18A1-AS1', 'COL6A1', 'COL6A2', 'TIMP3',\n",
              "       'MYH9', 'RPL3', 'FBLN1', 'CTNNB1', 'FLNB', 'FLNB-AS1', 'CCDC80',\n",
              "       'FSTL1', 'PDGFRA', 'SPARC', 'CANX', 'TUBB', 'HSP90AB1', 'EEF1A1',\n",
              "       'COL1A2', 'CALU', 'CTSB', 'RPS6', 'COL5A1', 'TIMP1', 'RPS4X'],\n",
              "      dtype=object)"
            ]
          },
          "metadata": {
            "tags": []
          },
          "execution_count": 4
        }
      ]
    },
    {
      "cell_type": "code",
      "metadata": {
        "id": "tOshQ2FfX11s",
        "colab_type": "code",
        "colab": {}
      },
      "source": [
        "g1 = pd.read_csv(\"group1newciiider.csv\")\n",
        "e1 = pd.read_excel(\"enrich1.xlsx\")"
      ],
      "execution_count": 5,
      "outputs": []
    },
    {
      "cell_type": "code",
      "metadata": {
        "id": "d74K9llOX3t7",
        "colab_type": "code",
        "colab": {
          "base_uri": "https://localhost:8080/"
        },
        "outputId": "39c95a98-62a3-4e28-e864-51c50b5896d3"
      },
      "source": [
        "g1.rename(columns={'Gene Name':'Genename'}, inplace=True)\n",
        "\n",
        "g1[['Chrom','Start','End','Genename']] = g1.Genename.str.split(\"_\",expand=True,)\n",
        "\n",
        "g1.head()"
      ],
      "execution_count": 6,
      "outputs": [
        {
          "output_type": "execute_result",
          "data": {
            "text/html": [
              "<div>\n",
              "<style scoped>\n",
              "    .dataframe tbody tr th:only-of-type {\n",
              "        vertical-align: middle;\n",
              "    }\n",
              "\n",
              "    .dataframe tbody tr th {\n",
              "        vertical-align: top;\n",
              "    }\n",
              "\n",
              "    .dataframe thead th {\n",
              "        text-align: right;\n",
              "    }\n",
              "</style>\n",
              "<table border=\"1\" class=\"dataframe\">\n",
              "  <thead>\n",
              "    <tr style=\"text-align: right;\">\n",
              "      <th></th>\n",
              "      <th>Genename</th>\n",
              "      <th>Gene ID</th>\n",
              "      <th>Transcription Factor Name</th>\n",
              "      <th>Transcription Factor ID</th>\n",
              "      <th>Start Position</th>\n",
              "      <th>End Position</th>\n",
              "      <th>Strand</th>\n",
              "      <th>Core Match Score</th>\n",
              "      <th>Matrix Match Score</th>\n",
              "      <th>Sequence</th>\n",
              "      <th>Chrom</th>\n",
              "      <th>Start</th>\n",
              "      <th>End</th>\n",
              "    </tr>\n",
              "  </thead>\n",
              "  <tbody>\n",
              "    <tr>\n",
              "      <th>0</th>\n",
              "      <td>COL5A1</td>\n",
              "      <td>880</td>\n",
              "      <td>Foxj3</td>\n",
              "      <td>MA0851.1</td>\n",
              "      <td>284</td>\n",
              "      <td>300</td>\n",
              "      <td>1.0</td>\n",
              "      <td>1.000</td>\n",
              "      <td>0.889</td>\n",
              "      <td>CAACGATAAACATTTGG</td>\n",
              "      <td>chr9</td>\n",
              "      <td>134811604</td>\n",
              "      <td>134812444</td>\n",
              "    </tr>\n",
              "    <tr>\n",
              "      <th>1</th>\n",
              "      <td>COL5A1</td>\n",
              "      <td>880</td>\n",
              "      <td>EVX2</td>\n",
              "      <td>MA0888.1</td>\n",
              "      <td>474</td>\n",
              "      <td>483</td>\n",
              "      <td>1.0</td>\n",
              "      <td>0.986</td>\n",
              "      <td>0.929</td>\n",
              "      <td>TGCCATTACA</td>\n",
              "      <td>chr9</td>\n",
              "      <td>134811604</td>\n",
              "      <td>134812444</td>\n",
              "    </tr>\n",
              "    <tr>\n",
              "      <th>2</th>\n",
              "      <td>COL5A1</td>\n",
              "      <td>880</td>\n",
              "      <td>EVX2</td>\n",
              "      <td>MA0888.1</td>\n",
              "      <td>614</td>\n",
              "      <td>623</td>\n",
              "      <td>-1.0</td>\n",
              "      <td>0.985</td>\n",
              "      <td>0.983</td>\n",
              "      <td>GGTGATTATG</td>\n",
              "      <td>chr9</td>\n",
              "      <td>134811604</td>\n",
              "      <td>134812444</td>\n",
              "    </tr>\n",
              "    <tr>\n",
              "      <th>3</th>\n",
              "      <td>COL5A1</td>\n",
              "      <td>880</td>\n",
              "      <td>EVX2</td>\n",
              "      <td>MA0888.1</td>\n",
              "      <td>553</td>\n",
              "      <td>562</td>\n",
              "      <td>-1.0</td>\n",
              "      <td>1.000</td>\n",
              "      <td>0.928</td>\n",
              "      <td>GTAAATTATG</td>\n",
              "      <td>chr9</td>\n",
              "      <td>134811604</td>\n",
              "      <td>134812444</td>\n",
              "    </tr>\n",
              "    <tr>\n",
              "      <th>4</th>\n",
              "      <td>COL5A1</td>\n",
              "      <td>880</td>\n",
              "      <td>EVX2</td>\n",
              "      <td>MA0888.1</td>\n",
              "      <td>358</td>\n",
              "      <td>367</td>\n",
              "      <td>-1.0</td>\n",
              "      <td>1.000</td>\n",
              "      <td>0.940</td>\n",
              "      <td>TACAATTACA</td>\n",
              "      <td>chr9</td>\n",
              "      <td>134811604</td>\n",
              "      <td>134812444</td>\n",
              "    </tr>\n",
              "  </tbody>\n",
              "</table>\n",
              "</div>"
            ],
            "text/plain": [
              "  Genename  Gene ID Transcription Factor Name  ... Chrom      Start        End\n",
              "0   COL5A1      880                     Foxj3  ...  chr9  134811604  134812444\n",
              "1   COL5A1      880                      EVX2  ...  chr9  134811604  134812444\n",
              "2   COL5A1      880                      EVX2  ...  chr9  134811604  134812444\n",
              "3   COL5A1      880                      EVX2  ...  chr9  134811604  134812444\n",
              "4   COL5A1      880                      EVX2  ...  chr9  134811604  134812444\n",
              "\n",
              "[5 rows x 13 columns]"
            ]
          },
          "metadata": {
            "tags": []
          },
          "execution_count": 6
        }
      ]
    },
    {
      "cell_type": "code",
      "metadata": {
        "id": "pOZxMLWAbNIJ",
        "colab_type": "code",
        "colab": {}
      },
      "source": [
        "merged_df = g1.merge(e1, how = 'inner', on = [\"Transcription Factor ID\",\"Transcription Factor Name\"])"
      ],
      "execution_count": 7,
      "outputs": []
    },
    {
      "cell_type": "code",
      "metadata": {
        "id": "zJpOT1CkbZXW",
        "colab_type": "code",
        "colab": {
          "base_uri": "https://localhost:8080/",
          "height": 258
        },
        "outputId": "edaeafff-f88e-46fe-a1ef-c1845c5385b7"
      },
      "source": [
        "g1.head()"
      ],
      "execution_count": 8,
      "outputs": [
        {
          "output_type": "execute_result",
          "data": {
            "text/html": [
              "<div>\n",
              "<style scoped>\n",
              "    .dataframe tbody tr th:only-of-type {\n",
              "        vertical-align: middle;\n",
              "    }\n",
              "\n",
              "    .dataframe tbody tr th {\n",
              "        vertical-align: top;\n",
              "    }\n",
              "\n",
              "    .dataframe thead th {\n",
              "        text-align: right;\n",
              "    }\n",
              "</style>\n",
              "<table border=\"1\" class=\"dataframe\">\n",
              "  <thead>\n",
              "    <tr style=\"text-align: right;\">\n",
              "      <th></th>\n",
              "      <th>Genename</th>\n",
              "      <th>Gene ID</th>\n",
              "      <th>Transcription Factor Name</th>\n",
              "      <th>Transcription Factor ID</th>\n",
              "      <th>Start Position</th>\n",
              "      <th>End Position</th>\n",
              "      <th>Strand</th>\n",
              "      <th>Core Match Score</th>\n",
              "      <th>Matrix Match Score</th>\n",
              "      <th>Sequence</th>\n",
              "      <th>Chrom</th>\n",
              "      <th>Start</th>\n",
              "      <th>End</th>\n",
              "    </tr>\n",
              "  </thead>\n",
              "  <tbody>\n",
              "    <tr>\n",
              "      <th>0</th>\n",
              "      <td>COL5A1</td>\n",
              "      <td>880</td>\n",
              "      <td>Foxj3</td>\n",
              "      <td>MA0851.1</td>\n",
              "      <td>284</td>\n",
              "      <td>300</td>\n",
              "      <td>1.0</td>\n",
              "      <td>1.000</td>\n",
              "      <td>0.889</td>\n",
              "      <td>CAACGATAAACATTTGG</td>\n",
              "      <td>chr9</td>\n",
              "      <td>134811604</td>\n",
              "      <td>134812444</td>\n",
              "    </tr>\n",
              "    <tr>\n",
              "      <th>1</th>\n",
              "      <td>COL5A1</td>\n",
              "      <td>880</td>\n",
              "      <td>EVX2</td>\n",
              "      <td>MA0888.1</td>\n",
              "      <td>474</td>\n",
              "      <td>483</td>\n",
              "      <td>1.0</td>\n",
              "      <td>0.986</td>\n",
              "      <td>0.929</td>\n",
              "      <td>TGCCATTACA</td>\n",
              "      <td>chr9</td>\n",
              "      <td>134811604</td>\n",
              "      <td>134812444</td>\n",
              "    </tr>\n",
              "    <tr>\n",
              "      <th>2</th>\n",
              "      <td>COL5A1</td>\n",
              "      <td>880</td>\n",
              "      <td>EVX2</td>\n",
              "      <td>MA0888.1</td>\n",
              "      <td>614</td>\n",
              "      <td>623</td>\n",
              "      <td>-1.0</td>\n",
              "      <td>0.985</td>\n",
              "      <td>0.983</td>\n",
              "      <td>GGTGATTATG</td>\n",
              "      <td>chr9</td>\n",
              "      <td>134811604</td>\n",
              "      <td>134812444</td>\n",
              "    </tr>\n",
              "    <tr>\n",
              "      <th>3</th>\n",
              "      <td>COL5A1</td>\n",
              "      <td>880</td>\n",
              "      <td>EVX2</td>\n",
              "      <td>MA0888.1</td>\n",
              "      <td>553</td>\n",
              "      <td>562</td>\n",
              "      <td>-1.0</td>\n",
              "      <td>1.000</td>\n",
              "      <td>0.928</td>\n",
              "      <td>GTAAATTATG</td>\n",
              "      <td>chr9</td>\n",
              "      <td>134811604</td>\n",
              "      <td>134812444</td>\n",
              "    </tr>\n",
              "    <tr>\n",
              "      <th>4</th>\n",
              "      <td>COL5A1</td>\n",
              "      <td>880</td>\n",
              "      <td>EVX2</td>\n",
              "      <td>MA0888.1</td>\n",
              "      <td>358</td>\n",
              "      <td>367</td>\n",
              "      <td>-1.0</td>\n",
              "      <td>1.000</td>\n",
              "      <td>0.940</td>\n",
              "      <td>TACAATTACA</td>\n",
              "      <td>chr9</td>\n",
              "      <td>134811604</td>\n",
              "      <td>134812444</td>\n",
              "    </tr>\n",
              "  </tbody>\n",
              "</table>\n",
              "</div>"
            ],
            "text/plain": [
              "  Genename  Gene ID Transcription Factor Name  ... Chrom      Start        End\n",
              "0   COL5A1      880                     Foxj3  ...  chr9  134811604  134812444\n",
              "1   COL5A1      880                      EVX2  ...  chr9  134811604  134812444\n",
              "2   COL5A1      880                      EVX2  ...  chr9  134811604  134812444\n",
              "3   COL5A1      880                      EVX2  ...  chr9  134811604  134812444\n",
              "4   COL5A1      880                      EVX2  ...  chr9  134811604  134812444\n",
              "\n",
              "[5 rows x 13 columns]"
            ]
          },
          "metadata": {
            "tags": []
          },
          "execution_count": 8
        }
      ]
    },
    {
      "cell_type": "code",
      "metadata": {
        "id": "Knc7ukU3baoN",
        "colab_type": "code",
        "colab": {}
      },
      "source": [
        "g1 = merged_df[[\"Chrom\",\"Start Position\",'End Position','Genename','Transcription Factor Name','Transcription Factor ID']].copy()"
      ],
      "execution_count": 9,
      "outputs": []
    },
    {
      "cell_type": "code",
      "metadata": {
        "id": "zKIREDXlbeQZ",
        "colab_type": "code",
        "colab": {}
      },
      "source": [
        "meh1 = df1.merge(g1,how='left', left_on='Genename', right_on='Genename')"
      ],
      "execution_count": 10,
      "outputs": []
    },
    {
      "cell_type": "code",
      "metadata": {
        "id": "Gt1nM0lIbgYt",
        "colab_type": "code",
        "colab": {}
      },
      "source": [
        "\n",
        "\n",
        "###Add start and end positions\n",
        "meh1['Start'] = meh1['Start'] + meh1['Start Position'] \n",
        "\n",
        "\n",
        "###Add start and end positions\n",
        "meh1['End'] = meh1['End'] + meh1['End Position'] "
      ],
      "execution_count": 11,
      "outputs": []
    },
    {
      "cell_type": "code",
      "metadata": {
        "id": "Jpdu3q3Abjwi",
        "colab_type": "code",
        "colab": {}
      },
      "source": [
        "meh1 = meh1[[\"Chrom_x\",\"Start\",'End','Genename','Transcription Factor Name']].copy()"
      ],
      "execution_count": 12,
      "outputs": []
    },
    {
      "cell_type": "code",
      "metadata": {
        "id": "Sxq5noORblzh",
        "colab_type": "code",
        "colab": {}
      },
      "source": [
        "meh1.rename(columns={'Chrom_x':'Chrom'}, inplace=True)"
      ],
      "execution_count": 13,
      "outputs": []
    },
    {
      "cell_type": "code",
      "metadata": {
        "id": "YOEZ1VRVbnpt",
        "colab_type": "code",
        "colab": {}
      },
      "source": [
        "meh1 = meh1.drop_duplicates()"
      ],
      "execution_count": 14,
      "outputs": []
    },
    {
      "cell_type": "code",
      "metadata": {
        "id": "HI_kI8nubpn9",
        "colab_type": "code",
        "colab": {}
      },
      "source": [
        "newmeh1 = meh1.drop_duplicates(subset=['Genename','Transcription Factor Name'], keep=\"last\")"
      ],
      "execution_count": 15,
      "outputs": []
    },
    {
      "cell_type": "code",
      "metadata": {
        "id": "59FnFwlMcR_U",
        "colab_type": "code",
        "colab": {}
      },
      "source": [
        "newmeh1.to_csv('group1ciiider.csv', index = False)"
      ],
      "execution_count": 16,
      "outputs": []
    },
    {
      "cell_type": "code",
      "metadata": {
        "id": "i3G180p_cT-Q",
        "colab_type": "code",
        "colab": {}
      },
      "source": [
        ""
      ],
      "execution_count": null,
      "outputs": []
    }
  ]
}